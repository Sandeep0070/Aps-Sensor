{
 "cells": [
  {
   "cell_type": "code",
   "execution_count": 2,
   "metadata": {},
   "outputs": [],
   "source": [
    "import numpy as np\n",
    "from scipy import stats\n",
    "rng = np.random.default_rng()\n",
    "target1 = stats.uniform.rvs(size=100, random_state=rng)\n",
    "target2 = stats.norm.rvs(size=110, random_state=rng)\n",
    "response = stats.ks_2samp(target1, target2)\n"
   ]
  },
  {
   "cell_type": "code",
   "execution_count": 3,
   "metadata": {},
   "outputs": [
    {
     "data": {
      "text/plain": [
       "array([7.14396616e-01, 8.73877318e-01, 1.86323202e-01, 3.91151532e-02,\n",
       "       4.84216548e-01, 4.51105340e-01, 7.69624400e-01, 4.24824482e-01,\n",
       "       8.00954255e-01, 6.07024523e-01, 2.82651537e-01, 8.85768352e-01,\n",
       "       1.80073449e-01, 7.97288613e-01, 7.36244784e-01, 1.28361527e-01,\n",
       "       2.75161336e-01, 2.79139615e-01, 2.36740112e-01, 8.78653911e-01,\n",
       "       4.12421259e-01, 5.69497442e-01, 5.56547399e-01, 9.46696074e-01,\n",
       "       2.15560074e-01, 4.61418810e-01, 1.56476666e-01, 8.03570359e-01,\n",
       "       3.35056407e-01, 2.57291730e-01, 3.38732716e-01, 1.08192262e-01,\n",
       "       5.86212731e-01, 1.39374499e-01, 6.35527256e-01, 6.34702711e-02,\n",
       "       8.43315842e-01, 7.98710894e-01, 7.11946919e-01, 4.19084418e-01,\n",
       "       5.51663534e-01, 8.69391750e-01, 8.03674019e-01, 1.64822522e-01,\n",
       "       1.01148637e-01, 1.51679508e-01, 7.89006110e-01, 1.31155141e-02,\n",
       "       1.19831259e-01, 2.50346539e-02, 5.93079634e-01, 6.67683371e-02,\n",
       "       9.08292226e-01, 6.88756720e-01, 3.13555714e-01, 5.33905813e-01,\n",
       "       3.57031011e-01, 3.34545707e-04, 2.37246444e-01, 2.73412078e-01,\n",
       "       6.35862287e-01, 9.36386117e-01, 9.57693652e-01, 5.28519928e-01,\n",
       "       9.69387115e-01, 9.46161303e-01, 8.58275807e-01, 5.00282771e-02,\n",
       "       4.77228186e-01, 4.55988409e-01, 5.50687774e-01, 4.55034514e-01,\n",
       "       9.36619516e-01, 1.64060360e-01, 1.20233860e-01, 9.82989231e-01,\n",
       "       7.82603465e-01, 7.91929432e-01, 5.44870742e-01, 8.96451951e-01,\n",
       "       3.32131121e-01, 6.85593610e-01, 9.36318287e-01, 2.39915137e-01,\n",
       "       3.41552950e-01, 6.56682070e-01, 5.55211043e-01, 4.41139451e-01,\n",
       "       9.73692576e-01, 8.22124433e-01, 6.03510546e-01, 1.76495839e-01,\n",
       "       2.87288104e-01, 8.92613723e-01, 6.31202423e-01, 8.40166438e-01,\n",
       "       4.03669912e-01, 8.46196963e-01, 8.63334726e-01, 5.85165498e-01])"
      ]
     },
     "execution_count": 3,
     "metadata": {},
     "output_type": "execute_result"
    }
   ],
   "source": [
    "target1"
   ]
  },
  {
   "cell_type": "code",
   "execution_count": 5,
   "metadata": {},
   "outputs": [
    {
     "data": {
      "text/plain": [
       "0.0"
      ]
     },
     "execution_count": 5,
     "metadata": {},
     "output_type": "execute_result"
    }
   ],
   "source": [
    "round(response.pvalue,10)"
   ]
  },
  {
   "cell_type": "code",
   "execution_count": null,
   "metadata": {},
   "outputs": [],
   "source": [
    "#Anomly in my dataset\n",
    "# \n",
    "# 1.High Null Value\n",
    "2. Missing COlumns\n",
    "3. Outlier\n",
    "4. Categorical: \n",
    "Gender--> MALE, FEMALE,OTHER"
   ]
  },
  {
   "cell_type": "code",
   "execution_count": 6,
   "metadata": {},
   "outputs": [],
   "source": [
    "import pandas as pd"
   ]
  },
  {
   "cell_type": "code",
   "execution_count": 7,
   "metadata": {},
   "outputs": [
    {
     "name": "stdout",
     "output_type": "stream",
     "text": [
      "1 4\n",
      "2 5\n",
      "3 6\n",
      "4 7\n"
     ]
    }
   ],
   "source": [
    "l1=[1,2,3,4]\n",
    "l2=[4,5,6,7]\n",
    "\n",
    "for l1_val,l2_val in zip(l1,l2):\n",
    "    print(l1_val,l2_val)"
   ]
  },
  {
   "cell_type": "code",
   "execution_count": null,
   "metadata": {},
   "outputs": [],
   "source": [
    "df = pd.read_csv(\"/config/workspace/artifact/11272022__185759/data_ingestion/dataset/train.csv\")"
   ]
  },
  {
   "cell_type": "code",
   "execution_count": null,
   "metadata": {},
   "outputs": [],
   "source": []
  }
 ],
 "metadata": {
  "kernelspec": {
   "display_name": "Python 3",
   "language": "python",
   "name": "python3"
  },
  "language_info": {
   "codemirror_mode": {
    "name": "ipython",
    "version": 3
   },
   "file_extension": ".py",
   "mimetype": "text/x-python",
   "name": "python",
   "nbconvert_exporter": "python",
   "pygments_lexer": "ipython3",
   "version": "3.8.0"
  },
  "orig_nbformat": 4
 },
 "nbformat": 4,
 "nbformat_minor": 2
}
